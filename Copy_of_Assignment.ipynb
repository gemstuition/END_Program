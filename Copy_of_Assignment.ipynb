{
  "nbformat": 4,
  "nbformat_minor": 0,
  "metadata": {
    "colab": {
      "name": "Copy of Assignment.ipynb",
      "provenance": [],
      "collapsed_sections": [],
      "authorship_tag": "ABX9TyNx8QdUgf5vciV8ckZzlYL9",
      "include_colab_link": true
    },
    "kernelspec": {
      "name": "python3",
      "display_name": "Python 3"
    }
  },
  "cells": [
    {
      "cell_type": "markdown",
      "metadata": {
        "id": "view-in-github",
        "colab_type": "text"
      },
      "source": [
        "<a href=\"https://colab.research.google.com/github/gemstuition/END_Program/blob/main/Copy_of_Assignment.ipynb\" target=\"_parent\"><img src=\"https://colab.research.google.com/assets/colab-badge.svg\" alt=\"Open In Colab\"/></a>"
      ]
    },
    {
      "cell_type": "code",
      "metadata": {
        "id": "9bMm_NuvqxMR"
      },
      "source": [
        "import pandas as pd \n",
        "import random\n",
        "import numpy as np"
      ],
      "execution_count": 1,
      "outputs": []
    },
    {
      "cell_type": "code",
      "metadata": {
        "id": "CeTcGSygt6FB",
        "colab": {
          "base_uri": "https://localhost:8080/"
        },
        "outputId": "71942b1b-1a21-4510-f281-9ba04daba327"
      },
      "source": [
        "#Question 1\n",
        "#Write a function using only list filter lambda that can tell whether a number is a Fibonacci number or not. \n",
        "\n",
        "def fibonacci(a = list(range(2))):\n",
        "    fibonocci = [1,1]\n",
        "    while (sum(fibonocci[(len(fibonocci)-2):]))<10001:\n",
        "        fibonocci = fibonocci+[sum(fibonocci[(len(fibonocci)-2):])]\n",
        "    \n",
        "    if type(a)==list:\n",
        "        return list(filter(lambda x:x in fibonocci,a))\n",
        "    elif (type(a) == int)|(type(a) == float):\n",
        "        if a<10000:\n",
        "            return a in fibonocci\n",
        "        else:\n",
        "            return 'it can not greater than 10000' \n",
        "\n",
        "\n",
        "fibonacci(8) "
      ],
      "execution_count": 2,
      "outputs": [
        {
          "output_type": "execute_result",
          "data": {
            "text/plain": [
              "True"
            ]
          },
          "metadata": {
            "tags": []
          },
          "execution_count": 2
        }
      ]
    },
    {
      "cell_type": "code",
      "metadata": {
        "id": "c_J_aAOpxxPT",
        "colab": {
          "base_uri": "https://localhost:8080/"
        },
        "outputId": "e3482069-bfce-4fa5-f17c-3e04975ed924"
      },
      "source": [
        "#Question 2 Part 1\n",
        "#Using list comprehension (and zip/lambda/etc if required) write  expressions that  add 2 iterables a and b such that a is even and b is odd\n",
        "\n",
        "def add(a,b):\n",
        "    '''\n",
        "    a list have even number \n",
        "    b list have odd number\n",
        "    '''\n",
        "    result = [x+y for x,y in zip(a,b) if (x%2==0)&(y%2==1)]\n",
        "    return result\n",
        "\n",
        "add([2,4],[1,3])"
      ],
      "execution_count": 24,
      "outputs": [
        {
          "output_type": "execute_result",
          "data": {
            "text/plain": [
              "[3, 7]"
            ]
          },
          "metadata": {
            "tags": []
          },
          "execution_count": 24
        }
      ]
    },
    {
      "cell_type": "code",
      "metadata": {
        "id": "wZeUPwfbxxMI",
        "colab": {
          "base_uri": "https://localhost:8080/",
          "height": 35
        },
        "outputId": "943871e4-cb49-4eea-d91c-c5ff52949358"
      },
      "source": [
        "#Question 2 Part 2 \n",
        "#strips every vowel from a string provided (tsai>>t s)\n",
        "\n",
        "def strips(string):\n",
        "    output = [i for i in string if i not in 'aeiouAEIOU']\n",
        "    return ''.join(output)\n",
        "\n",
        "strips(\"tsai\")   \n"
      ],
      "execution_count": 3,
      "outputs": [
        {
          "output_type": "execute_result",
          "data": {
            "application/vnd.google.colaboratory.intrinsic+json": {
              "type": "string"
            },
            "text/plain": [
              "'ts'"
            ]
          },
          "metadata": {
            "tags": []
          },
          "execution_count": 3
        }
      ]
    },
    {
      "cell_type": "code",
      "metadata": {
        "id": "PbWE0HwLxxHf",
        "colab": {
          "base_uri": "https://localhost:8080/"
        },
        "outputId": "11f9f260-8b46-47a7-89d7-fbbd3d3bd87c"
      },
      "source": [
        "#Question 2 Part 3\n",
        "#Acts like a ReLU function for a 1D array\n",
        "\n",
        "def relu(input_list):\n",
        "    result = [x if x>0 else 0 for x in input_list]\n",
        "    return result\n",
        "\n",
        "relu([1,-1,0,1,-22,4]) "
      ],
      "execution_count": 5,
      "outputs": [
        {
          "output_type": "execute_result",
          "data": {
            "text/plain": [
              "[1, 0, 0, 1, 0, 4]"
            ]
          },
          "metadata": {
            "tags": []
          },
          "execution_count": 5
        }
      ]
    },
    {
      "cell_type": "code",
      "metadata": {
        "id": "GZvjsEG0x3VF",
        "colab": {
          "base_uri": "https://localhost:8080/"
        },
        "outputId": "806dcf50-b791-4a8c-b2ef-7fac10133460"
      },
      "source": [
        "#Question 2 Part 4\n",
        "#acts like a sigmoid function for a 1D array\n",
        "import math\n",
        "\n",
        "def sigmoid(input_list):\n",
        "    result = [(1/(1+math.exp(i))) for i in input_list]\n",
        "    return result\n",
        "\n",
        "sigmoid([1])    "
      ],
      "execution_count": 9,
      "outputs": [
        {
          "output_type": "execute_result",
          "data": {
            "text/plain": [
              "[0.2689414213699951]"
            ]
          },
          "metadata": {
            "tags": []
          },
          "execution_count": 9
        }
      ]
    },
    {
      "cell_type": "code",
      "metadata": {
        "id": "LBef09odx335",
        "colab": {
          "base_uri": "https://localhost:8080/",
          "height": 35
        },
        "outputId": "a778d270-584b-4192-a06b-672c8bb49767"
      },
      "source": [
        "#Question 2 Part 5\n",
        "#takes a small character string and shifts all characters by 5 (handle boundary conditions) tsai>>yxfn\n",
        "\n",
        "def shifts(input_string):\n",
        "    chars = 'abcdefghijklmnopqrstuvwxyz'\n",
        "    newchars = 'fghijklmnopqrstuvwxyzabcde'\n",
        "    replace = dict(zip(chars,newchars))\n",
        "    result = ''.join([replace[i] for i in input_string])\n",
        "    return result\n",
        "\n",
        "shifts(\"tsai\")"
      ],
      "execution_count": 10,
      "outputs": [
        {
          "output_type": "execute_result",
          "data": {
            "application/vnd.google.colaboratory.intrinsic+json": {
              "type": "string"
            },
            "text/plain": [
              "'yxfn'"
            ]
          },
          "metadata": {
            "tags": []
          },
          "execution_count": 10
        }
      ]
    },
    {
      "cell_type": "code",
      "metadata": {
        "id": "vUUqmDwJx3zi"
      },
      "source": [
        "#Question 3\n",
        "\n",
        "#A list comprehension expression that takes a ~200 word paragraph (write your own paragraph to check), and checks whether it has any of the swear words mentioned in https://github.com/RobertJGabriel/Google-profanity-words/blob/master/list.txt\n",
        "\n",
        "def swear(string):\n",
        "\n",
        "    words = pd.read_csv('list.txt') #uploaed list.txt in session storage\n",
        "    a_words = [i for i in words]\n",
        "   \n",
        "    string = string.split(' ')\n",
        "    string1 = [word for word in string if word in a_words]\n",
        "    if len(string1)>0:\n",
        "        return 'Profanity is exists in string'\n",
        "    else:\n",
        "        return 'No Profanity found'\n",
        "      \n",
        "     "
      ],
      "execution_count": 12,
      "outputs": []
    },
    {
      "cell_type": "code",
      "metadata": {
        "id": "6WIKZ4wOx3wJ",
        "colab": {
          "base_uri": "https://localhost:8080/"
        },
        "outputId": "db12c67f-d032-496a-9ed5-db90ce6caf07"
      },
      "source": [
        "#Question 4 Part 1\n",
        "\n",
        "#Using reduce functions add only even numbers in a list\n",
        "from functools import reduce\n",
        "def onlyeven(input_list): \n",
        "    return reduce(lambda x,y: x+y if y%2==0 else x+0,input_list,0)\n",
        "\n",
        "onlyeven([2,10,11,6])\n"
      ],
      "execution_count": 14,
      "outputs": [
        {
          "output_type": "execute_result",
          "data": {
            "text/plain": [
              "18"
            ]
          },
          "metadata": {
            "tags": []
          },
          "execution_count": 14
        }
      ]
    },
    {
      "cell_type": "code",
      "metadata": {
        "id": "Mk_9bdxRx3rr",
        "colab": {
          "base_uri": "https://localhost:8080/",
          "height": 35
        },
        "outputId": "dd960368-b02b-4fc4-e0c7-b6635bcf7ead"
      },
      "source": [
        "#Question 4 Part 2\n",
        "#Using reduce functions  find the biggest character in a string (printable ascii characters)\n",
        "\n",
        "def biggestchar(input):\n",
        "    return reduce(lambda x,y: x if ord(x)>ord(y) else y,input)\n",
        "\n",
        "biggestchar(\"tsai\")    "
      ],
      "execution_count": 16,
      "outputs": [
        {
          "output_type": "execute_result",
          "data": {
            "application/vnd.google.colaboratory.intrinsic+json": {
              "type": "string"
            },
            "text/plain": [
              "'t'"
            ]
          },
          "metadata": {
            "tags": []
          },
          "execution_count": 16
        }
      ]
    },
    {
      "cell_type": "code",
      "metadata": {
        "id": "rtDm75MGx3ng",
        "colab": {
          "base_uri": "https://localhost:8080/"
        },
        "outputId": "cc13c4f6-24b8-4b7d-c7b1-8e9661b76404"
      },
      "source": [
        "#Question 4 Part 3\n",
        "#Using reduce functions adds every 3rd number in a list\n",
        "\n",
        "def add_third(input_list):\n",
        "    return reduce(lambda x,y: x+input_list[y] if (y+1)%3==0 else x+0,list(range(len(input_list))),0)\n",
        "\n",
        "add_third([1,2,3,4,5,6])    "
      ],
      "execution_count": 18,
      "outputs": [
        {
          "output_type": "execute_result",
          "data": {
            "text/plain": [
              "9"
            ]
          },
          "metadata": {
            "tags": []
          },
          "execution_count": 18
        }
      ]
    },
    {
      "cell_type": "code",
      "metadata": {
        "id": "K4BJBiDdx3jI",
        "colab": {
          "base_uri": "https://localhost:8080/"
        },
        "outputId": "b3c14104-f286-42e5-bda5-3d68fa4da01b"
      },
      "source": [
        "#Question 5\n",
        "\n",
        "#Using randint, random.choice and list comprehensions, write an expression that generates 15 random KADDAADDDD number plates, where KA is fixed, D stands for a digit, and A stands for Capital alphabets. 10<<DD<<99 & 1000<<DDDD<<9999\n",
        "\n",
        "def generate():\n",
        "    chars = dict(zip(list(range(1,27)),'abcdefghijklmnopqrstuvwxyz'.upper()))\n",
        "    output = ['KA'+\n",
        "              str(random.randint(10,99))+\n",
        "              chars[random.randint(1,26)]+chars[random.randint(1,26)]+\n",
        "              str(random.randint(1000,9999)) for _ in range(15)]\n",
        "    return output\n",
        "\n",
        "generate()    \n",
        "   "
      ],
      "execution_count": 19,
      "outputs": [
        {
          "output_type": "execute_result",
          "data": {
            "text/plain": [
              "['KA40WI1965',\n",
              " 'KA90MX7235',\n",
              " 'KA39GL8385',\n",
              " 'KA29OT3447',\n",
              " 'KA97XO8305',\n",
              " 'KA81WL4319',\n",
              " 'KA28RP1084',\n",
              " 'KA38VY4670',\n",
              " 'KA77GU2391',\n",
              " 'KA76HH2384',\n",
              " 'KA31EA2273',\n",
              " 'KA37VX4731',\n",
              " 'KA83XG5545',\n",
              " 'KA51PW5672',\n",
              " 'KA81JT5375']"
            ]
          },
          "metadata": {
            "tags": []
          },
          "execution_count": 19
        }
      ]
    },
    {
      "cell_type": "code",
      "metadata": {
        "id": "0uQsK67Ix3dC",
        "colab": {
          "base_uri": "https://localhost:8080/"
        },
        "outputId": "474dd76f-2f3a-4b1b-8bac-9fa625272c54"
      },
      "source": [
        "#Question 6\n",
        "\n",
        "#Write the above again from scratch where KA can be changed to DL, and 1000/9999 ranges can be provided\n",
        "\n",
        "def generate_again(state,min ,max):\n",
        "    chars = dict(zip(list(range(1,27)),'abcdefghijklmnopqrstuvwxyz'.upper()))\n",
        "    result = [state+\n",
        "              str(random.randint(10,99))+\n",
        "              chars[random.randint(1,26)]+chars[random.randint(1,26)]+\n",
        "              str(random.randint(min,max)) for _ in range(15)]\n",
        "    return result\n",
        "\n",
        "\n",
        "generate_again(\"DL\",100,200)"
      ],
      "execution_count": 20,
      "outputs": [
        {
          "output_type": "execute_result",
          "data": {
            "text/plain": [
              "['DL66TY173',\n",
              " 'DL91GA140',\n",
              " 'DL20WU108',\n",
              " 'DL40GU188',\n",
              " 'DL59US157',\n",
              " 'DL27TC103',\n",
              " 'DL93MX138',\n",
              " 'DL85VH120',\n",
              " 'DL25CB128',\n",
              " 'DL42AF173',\n",
              " 'DL14PV188',\n",
              " 'DL67JI105',\n",
              " 'DL94CU160',\n",
              " 'DL40NX144',\n",
              " 'DL21AY174']"
            ]
          },
          "metadata": {
            "tags": []
          },
          "execution_count": 20
        }
      ]
    }
  ]
}